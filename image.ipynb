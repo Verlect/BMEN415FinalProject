{
 "cells": [
  {
   "cell_type": "code",
   "execution_count": 37,
   "metadata": {},
   "outputs": [],
   "source": [
    "import pandas as pd\n",
    "import numpy as np\n",
    "import seaborn as sns\n",
    "import matplotlib.pyplot as plt\n",
    "import os, random\n",
    "import sklearn\n",
    "import tensorflow as tf\n",
    "from tensorflow import keras\n",
    "from keras.preprocessing.image import ImageDataGenerator\n",
    "from keras.preprocessing.image import ImageDataGenerator\n",
    "from keras.models import Sequential\n",
    "from keras.layers import Activation, Dropout, Dense, Flatten, BatchNormalization, Conv2D, MaxPool2D\n",
    "from keras.optimizers import Adam\n",
    "from keras import backend as K\n",
    "from keras.preprocessing import image\n",
    "from sklearn.metrics import accuracy_score, classification_report\n",
    "from pathlib import Path\n",
    "import cv2\n",
    "import warnings\n",
    "warnings.filterwarnings('ignore')"
   ]
  },
  {
   "cell_type": "code",
   "execution_count": 38,
   "metadata": {},
   "outputs": [],
   "source": [
    "dir_alldata = Path('chest_xray')\n",
    "train_data_dir = dir_alldata / 'train'\n",
    "validation_data_dir = dir_alldata / 'val'\n",
    "test_data_dir = dir_alldata / 'test'\n",
    "normal_cases_train = train_data_dir / 'NORMAL'\n",
    "pneumonia_cases_train = train_data_dir / 'PNEUMONIA'\n"
   ]
  },
  {
   "cell_type": "code",
   "execution_count": 39,
   "metadata": {},
   "outputs": [],
   "source": [
    "img_width, img_height = 150,150\n",
    "nb_train_sample =1000\n",
    "nb_validation_samples =100\n",
    "\n",
    "epochs = 50\n",
    "batch_size = 20\n",
    "\n",
    "if K.image_data_format()==\"channels_first\":\n",
    "    input_shape =(3,img_width, img_height)\n",
    "else:\n",
    "    input_shape =(img_width, img_height,3)\n",
    "\n",
    "train_datagen = ImageDataGenerator(rescale=1./255, shear_range=0.2, zoom_range=0.2, horizontal_flip=True)\n",
    "\n",
    "validation_datagen = ImageDataGenerator(rescale=1./255, shear_range=0.2, zoom_range=0.2, horizontal_flip=True)\n",
    "\n",
    "test_datagen = ImageDataGenerator(rescale=1./255)"
   ]
  },
  {
   "cell_type": "code",
   "execution_count": 40,
   "metadata": {},
   "outputs": [
    {
     "name": "stdout",
     "output_type": "stream",
     "text": [
      "Found 5216 images belonging to 2 classes.\n",
      "Found 16 images belonging to 2 classes.\n",
      "Found 624 images belonging to 2 classes.\n"
     ]
    }
   ],
   "source": [
    "train_generator= train_datagen.flow_from_directory(train_data_dir, target_size =(150,150),batch_size=batch_size, class_mode=\"binary\" )\n",
    "\n",
    "validation_generator = validation_datagen.flow_from_directory(validation_data_dir, target_size = (150,150),batch_size=batch_size, class_mode=\"binary\")\n",
    " \n",
    "test_generator = test_datagen.flow_from_directory(test_data_dir, target_size = (150,150),batch_size=batch_size, class_mode=\"binary\")"
   ]
  },
  {
   "cell_type": "code",
   "execution_count": 41,
   "metadata": {},
   "outputs": [],
   "source": [
    "model = Sequential()\n",
    "model.add(Conv2D(32,(3,3),input_shape=input_shape))\n",
    "model.add(Activation(\"relu\"))\n",
    "model.add(MaxPool2D(pool_size=(2,2)))\n",
    "\n",
    "model.add(Conv2D(32,(3,3)))\n",
    "model.add(Activation(\"relu\"))\n",
    "model.add(MaxPool2D(pool_size=(2,2)))\n",
    "\n",
    "model.add(Conv2D(64,(3,3)))\n",
    "model.add(Activation(\"relu\"))\n",
    "model.add(MaxPool2D(pool_size=(2,2)))\n",
    "\n",
    "model.add(Flatten())\n",
    "model.add(Dense(64))\n",
    "model.add(Activation(\"relu\"))\n",
    "model.add(Dropout(0.5))\n",
    "model.add(Dense(1))\n",
    "model.add(Activation(\"sigmoid\"))"
   ]
  },
  {
   "cell_type": "code",
   "execution_count": 42,
   "metadata": {},
   "outputs": [],
   "source": [
    "model.compile(loss= \"binary_crossentropy\", optimizer=\"adam\", metrics=[\"accuracy\"])"
   ]
  },
  {
   "cell_type": "code",
   "execution_count": 43,
   "metadata": {},
   "outputs": [
    {
     "name": "stdout",
     "output_type": "stream",
     "text": [
      "Epoch 1/50\n"
     ]
    },
    {
     "name": "stderr",
     "output_type": "stream",
     "text": [
      "2023-04-09 17:21:16.107168: I tensorflow/core/common_runtime/executor.cc:1210] [/device:CPU:0] (DEBUG INFO) Executor start aborting (this does not indicate an error and you can ignore this message): INVALID_ARGUMENT: You must feed a value for placeholder tensor 'Placeholder/_0' with dtype int32\n",
      "\t [[{{node Placeholder/_0}}]]\n"
     ]
    },
    {
     "name": "stdout",
     "output_type": "stream",
     "text": [
      "50/50 [==============================] - ETA: 0s - loss: 0.5871 - accuracy: 0.7240"
     ]
    },
    {
     "name": "stderr",
     "output_type": "stream",
     "text": [
      "2023-04-09 17:21:24.443818: I tensorflow/core/common_runtime/executor.cc:1210] [/device:CPU:0] (DEBUG INFO) Executor start aborting (this does not indicate an error and you can ignore this message): INVALID_ARGUMENT: You must feed a value for placeholder tensor 'Placeholder/_0' with dtype int32\n",
      "\t [[{{node Placeholder/_0}}]]\n"
     ]
    },
    {
     "name": "stdout",
     "output_type": "stream",
     "text": [
      "WARNING:tensorflow:Your input ran out of data; interrupting training. Make sure that your dataset or generator can generate at least `steps_per_epoch * epochs` batches (in this case, 5 batches). You may need to use the repeat() function when building your dataset.\n",
      "50/50 [==============================] - 9s 164ms/step - loss: 0.5871 - accuracy: 0.7240 - val_loss: 0.7102 - val_accuracy: 0.6250\n",
      "Epoch 2/50\n",
      "50/50 [==============================] - 8s 164ms/step - loss: 0.3793 - accuracy: 0.8263\n",
      "Epoch 3/50\n",
      "50/50 [==============================] - 8s 162ms/step - loss: 0.3433 - accuracy: 0.8660\n",
      "Epoch 4/50\n",
      "50/50 [==============================] - 8s 167ms/step - loss: 0.3073 - accuracy: 0.8850\n",
      "Epoch 5/50\n",
      "50/50 [==============================] - 8s 152ms/step - loss: 0.3179 - accuracy: 0.8710\n",
      "Epoch 6/50\n",
      "50/50 [==============================] - 8s 152ms/step - loss: 0.2937 - accuracy: 0.8740\n",
      "Epoch 7/50\n",
      "50/50 [==============================] - 7s 147ms/step - loss: 0.2456 - accuracy: 0.9046\n",
      "Epoch 8/50\n",
      "50/50 [==============================] - 8s 153ms/step - loss: 0.2737 - accuracy: 0.8946\n",
      "Epoch 9/50\n",
      "50/50 [==============================] - 8s 151ms/step - loss: 0.2494 - accuracy: 0.8940\n",
      "Epoch 10/50\n",
      "50/50 [==============================] - 7s 145ms/step - loss: 0.2328 - accuracy: 0.9010\n",
      "Epoch 11/50\n",
      "50/50 [==============================] - 8s 157ms/step - loss: 0.2296 - accuracy: 0.9040\n",
      "Epoch 12/50\n",
      "50/50 [==============================] - 9s 182ms/step - loss: 0.2813 - accuracy: 0.8840\n",
      "Epoch 13/50\n",
      "50/50 [==============================] - 8s 153ms/step - loss: 0.2337 - accuracy: 0.9016\n",
      "Epoch 14/50\n",
      "50/50 [==============================] - 9s 187ms/step - loss: 0.2288 - accuracy: 0.8950\n",
      "Epoch 15/50\n",
      "50/50 [==============================] - 10s 208ms/step - loss: 0.2039 - accuracy: 0.9160\n",
      "Epoch 16/50\n",
      "50/50 [==============================] - 9s 175ms/step - loss: 0.2333 - accuracy: 0.8986\n",
      "Epoch 17/50\n",
      "50/50 [==============================] - 8s 167ms/step - loss: 0.2150 - accuracy: 0.9040\n",
      "Epoch 18/50\n",
      "50/50 [==============================] - 8s 164ms/step - loss: 0.1964 - accuracy: 0.9190\n",
      "Epoch 19/50\n",
      "50/50 [==============================] - 8s 167ms/step - loss: 0.2273 - accuracy: 0.9120\n",
      "Epoch 20/50\n",
      "50/50 [==============================] - 8s 168ms/step - loss: 0.1831 - accuracy: 0.9310\n",
      "Epoch 21/50\n",
      "50/50 [==============================] - 8s 165ms/step - loss: 0.2129 - accuracy: 0.9157\n",
      "Epoch 22/50\n",
      "50/50 [==============================] - 9s 180ms/step - loss: 0.1916 - accuracy: 0.9150\n",
      "Epoch 23/50\n",
      "50/50 [==============================] - 8s 156ms/step - loss: 0.1747 - accuracy: 0.9350\n",
      "Epoch 24/50\n",
      "50/50 [==============================] - 8s 157ms/step - loss: 0.1941 - accuracy: 0.9290\n",
      "Epoch 25/50\n",
      "50/50 [==============================] - 8s 157ms/step - loss: 0.2016 - accuracy: 0.9190\n",
      "Epoch 26/50\n",
      "50/50 [==============================] - 8s 164ms/step - loss: 0.2044 - accuracy: 0.9110\n",
      "Epoch 27/50\n",
      "50/50 [==============================] - 8s 152ms/step - loss: 0.1934 - accuracy: 0.9227\n",
      "Epoch 28/50\n",
      "50/50 [==============================] - 8s 149ms/step - loss: 0.1506 - accuracy: 0.9418\n",
      "Epoch 29/50\n",
      "50/50 [==============================] - 10s 195ms/step - loss: 0.1754 - accuracy: 0.9330\n",
      "Epoch 30/50\n",
      "50/50 [==============================] - 9s 172ms/step - loss: 0.1694 - accuracy: 0.9408\n",
      "Epoch 31/50\n",
      "50/50 [==============================] - 8s 166ms/step - loss: 0.1583 - accuracy: 0.9418\n",
      "Epoch 32/50\n",
      "50/50 [==============================] - 9s 187ms/step - loss: 0.1822 - accuracy: 0.9307\n",
      "Epoch 33/50\n",
      "50/50 [==============================] - 10s 204ms/step - loss: 0.1672 - accuracy: 0.9350\n",
      "Epoch 34/50\n",
      "50/50 [==============================] - 8s 157ms/step - loss: 0.1777 - accuracy: 0.9380\n",
      "Epoch 35/50\n",
      "50/50 [==============================] - 8s 160ms/step - loss: 0.1732 - accuracy: 0.9320\n",
      "Epoch 36/50\n",
      "50/50 [==============================] - 9s 175ms/step - loss: 0.1735 - accuracy: 0.9390\n",
      "Epoch 37/50\n",
      "50/50 [==============================] - 8s 159ms/step - loss: 0.1383 - accuracy: 0.9450\n",
      "Epoch 38/50\n",
      "50/50 [==============================] - 8s 168ms/step - loss: 0.1853 - accuracy: 0.9317\n",
      "Epoch 39/50\n",
      "50/50 [==============================] - 9s 168ms/step - loss: 0.1500 - accuracy: 0.9490\n",
      "Epoch 40/50\n",
      "50/50 [==============================] - 8s 165ms/step - loss: 0.1781 - accuracy: 0.9270\n",
      "Epoch 41/50\n",
      "50/50 [==============================] - 9s 173ms/step - loss: 0.1429 - accuracy: 0.9408\n",
      "Epoch 42/50\n",
      "50/50 [==============================] - 9s 174ms/step - loss: 0.1285 - accuracy: 0.9540\n",
      "Epoch 43/50\n",
      "50/50 [==============================] - 9s 182ms/step - loss: 0.1756 - accuracy: 0.9380\n",
      "Epoch 44/50\n",
      "50/50 [==============================] - 12s 229ms/step - loss: 0.1397 - accuracy: 0.9520\n",
      "Epoch 45/50\n",
      "50/50 [==============================] - 11s 213ms/step - loss: 0.1433 - accuracy: 0.9520\n",
      "Epoch 46/50\n",
      "50/50 [==============================] - 9s 183ms/step - loss: 0.1691 - accuracy: 0.9450\n",
      "Epoch 47/50\n",
      "50/50 [==============================] - 9s 174ms/step - loss: 0.1498 - accuracy: 0.9550\n",
      "Epoch 48/50\n",
      "50/50 [==============================] - 9s 173ms/step - loss: 0.1545 - accuracy: 0.9490\n",
      "Epoch 49/50\n",
      "50/50 [==============================] - 9s 182ms/step - loss: 0.1455 - accuracy: 0.9490\n",
      "Epoch 50/50\n",
      "50/50 [==============================] - 9s 172ms/step - loss: 0.1451 - accuracy: 0.9440\n"
     ]
    }
   ],
   "source": [
    "history = model.fit_generator(train_generator, steps_per_epoch=nb_train_sample//batch_size, epochs=epochs,validation_data=validation_generator, validation_steps=nb_validation_samples//batch_size)"
   ]
  },
  {
   "cell_type": "code",
   "execution_count": 44,
   "metadata": {},
   "outputs": [
    {
     "name": "stderr",
     "output_type": "stream",
     "text": [
      "2023-04-09 17:28:29.540437: I tensorflow/core/common_runtime/executor.cc:1210] [/device:CPU:0] (DEBUG INFO) Executor start aborting (this does not indicate an error and you can ignore this message): INVALID_ARGUMENT: You must feed a value for placeholder tensor 'Placeholder/_0' with dtype int32\n",
      "\t [[{{node Placeholder/_0}}]]\n"
     ]
    }
   ],
   "source": [
    "test_accuracy = model.evaluate_generator(test_generator)\n"
   ]
  },
  {
   "cell_type": "code",
   "execution_count": 45,
   "metadata": {},
   "outputs": [
    {
     "name": "stdout",
     "output_type": "stream",
     "text": [
      "The accuracy on test set : 85.41666865348816\n"
     ]
    }
   ],
   "source": [
    "print('The accuracy on test set :',test_accuracy[1]*100 )"
   ]
  }
 ],
 "metadata": {
  "kernelspec": {
   "display_name": "Python 3",
   "language": "python",
   "name": "python3"
  },
  "language_info": {
   "codemirror_mode": {
    "name": "ipython",
    "version": 3
   },
   "file_extension": ".py",
   "mimetype": "text/x-python",
   "name": "python",
   "nbconvert_exporter": "python",
   "pygments_lexer": "ipython3",
   "version": "3.10.6"
  },
  "orig_nbformat": 4
 },
 "nbformat": 4,
 "nbformat_minor": 2
}
