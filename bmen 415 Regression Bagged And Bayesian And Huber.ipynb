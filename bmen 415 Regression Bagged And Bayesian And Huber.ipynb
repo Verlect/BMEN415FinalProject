{
 "cells": [
  {
   "cell_type": "code",
   "execution_count": 2,
   "metadata": {},
   "outputs": [],
   "source": [
    "#BMEN 415 REGRESSION MODEL: BAYESIAN LINEAR REGRESSION\n",
    "import pandas as pd #Importing pandas library\n",
    "import numpy as np #Importing numpy library\n",
    "import matplotlib.pyplot as plt #Importing Matplotlib library's \"pyplot\"\n",
    "import seaborn as sns  # Imorting Seaborn library\n",
    "from sklearn.model_selection import train_test_split\n",
    "import os\n",
    "\n",
    "data = pd.read_csv(\"Volumetric_features.csv\")\n",
    "df = data \n",
    "df = df.drop(columns=[\"S.No\", \"dataset\", \"Left-WM-hypointensities\", \"Right-WM-hypointensities\", \"Left-non-WM-hypointensities\", \"Right-non-WM-hypointensities\"])\n",
    " "
   ]
  },
  {
   "cell_type": "code",
   "execution_count": 3,
   "metadata": {},
   "outputs": [],
   "source": [
    "# Cleaning\n",
    "df = df.drop_duplicates()\n",
    "df = df.dropna()\n",
    "# Split\n",
    "y = df[\"Age\"]\n",
    "x = df.loc[:,df.columns!=\"Age\"]\n",
    "\n",
    "#x=(x-x.mean())/x.std()\n",
    "\n",
    "x=(x-x.min())/(x.max()-x.min())"
   ]
  },
  {
   "cell_type": "code",
   "execution_count": 4,
   "metadata": {},
   "outputs": [
    {
     "data": {
      "text/html": [
       "<div>\n",
       "<style scoped>\n",
       "    .dataframe tbody tr th:only-of-type {\n",
       "        vertical-align: middle;\n",
       "    }\n",
       "\n",
       "    .dataframe tbody tr th {\n",
       "        vertical-align: top;\n",
       "    }\n",
       "\n",
       "    .dataframe thead th {\n",
       "        text-align: right;\n",
       "    }\n",
       "</style>\n",
       "<table border=\"1\" class=\"dataframe\">\n",
       "  <thead>\n",
       "    <tr style=\"text-align: right;\">\n",
       "      <th></th>\n",
       "      <th>Left-Lateral-Ventricle</th>\n",
       "      <th>Left-Inf-Lat-Vent</th>\n",
       "      <th>Left-Cerebellum-White-Matter</th>\n",
       "      <th>Left-Cerebellum-Cortex</th>\n",
       "      <th>Left-Thalamus</th>\n",
       "      <th>Left-Caudate</th>\n",
       "      <th>Left-Putamen</th>\n",
       "      <th>Left-Pallidum</th>\n",
       "      <th>3rd-Ventricle</th>\n",
       "      <th>4th-Ventricle</th>\n",
       "      <th>...</th>\n",
       "      <th>rh_superiorparietal_thickness</th>\n",
       "      <th>rh_superiortemporal_thickness</th>\n",
       "      <th>rh_supramarginal_thickness</th>\n",
       "      <th>rh_frontalpole_thickness</th>\n",
       "      <th>rh_temporalpole_thickness</th>\n",
       "      <th>rh_transversetemporal_thickness</th>\n",
       "      <th>rh_insula_thickness</th>\n",
       "      <th>rh_MeanThickness_thickness</th>\n",
       "      <th>BrainSegVolNotVent.2</th>\n",
       "      <th>eTIV.1</th>\n",
       "    </tr>\n",
       "  </thead>\n",
       "  <tbody>\n",
       "    <tr>\n",
       "      <th>0</th>\n",
       "      <td>0.266889</td>\n",
       "      <td>0.130439</td>\n",
       "      <td>0.294306</td>\n",
       "      <td>0.517315</td>\n",
       "      <td>0.305780</td>\n",
       "      <td>0.385517</td>\n",
       "      <td>0.316429</td>\n",
       "      <td>0.391351</td>\n",
       "      <td>0.451096</td>\n",
       "      <td>0.243012</td>\n",
       "      <td>...</td>\n",
       "      <td>0.630546</td>\n",
       "      <td>0.646989</td>\n",
       "      <td>0.643852</td>\n",
       "      <td>0.428509</td>\n",
       "      <td>0.619945</td>\n",
       "      <td>0.427838</td>\n",
       "      <td>0.662904</td>\n",
       "      <td>0.646042</td>\n",
       "      <td>0.507961</td>\n",
       "      <td>0.633233</td>\n",
       "    </tr>\n",
       "    <tr>\n",
       "      <th>1</th>\n",
       "      <td>0.267356</td>\n",
       "      <td>0.130678</td>\n",
       "      <td>0.297613</td>\n",
       "      <td>0.516960</td>\n",
       "      <td>0.303479</td>\n",
       "      <td>0.407153</td>\n",
       "      <td>0.358349</td>\n",
       "      <td>0.428490</td>\n",
       "      <td>0.426830</td>\n",
       "      <td>0.258800</td>\n",
       "      <td>...</td>\n",
       "      <td>0.658703</td>\n",
       "      <td>0.654144</td>\n",
       "      <td>0.649303</td>\n",
       "      <td>0.433348</td>\n",
       "      <td>0.607774</td>\n",
       "      <td>0.480226</td>\n",
       "      <td>0.609030</td>\n",
       "      <td>0.650336</td>\n",
       "      <td>0.514535</td>\n",
       "      <td>0.637380</td>\n",
       "    </tr>\n",
       "    <tr>\n",
       "      <th>2</th>\n",
       "      <td>0.272088</td>\n",
       "      <td>0.140978</td>\n",
       "      <td>0.300899</td>\n",
       "      <td>0.512415</td>\n",
       "      <td>0.385946</td>\n",
       "      <td>0.440772</td>\n",
       "      <td>0.351457</td>\n",
       "      <td>0.326174</td>\n",
       "      <td>0.457948</td>\n",
       "      <td>0.232810</td>\n",
       "      <td>...</td>\n",
       "      <td>0.631399</td>\n",
       "      <td>0.616577</td>\n",
       "      <td>0.623259</td>\n",
       "      <td>0.416190</td>\n",
       "      <td>0.550452</td>\n",
       "      <td>0.498202</td>\n",
       "      <td>0.590559</td>\n",
       "      <td>0.633524</td>\n",
       "      <td>0.512489</td>\n",
       "      <td>0.635653</td>\n",
       "    </tr>\n",
       "    <tr>\n",
       "      <th>3</th>\n",
       "      <td>0.285483</td>\n",
       "      <td>0.132802</td>\n",
       "      <td>0.280392</td>\n",
       "      <td>0.482249</td>\n",
       "      <td>0.435433</td>\n",
       "      <td>0.421825</td>\n",
       "      <td>0.319923</td>\n",
       "      <td>0.322751</td>\n",
       "      <td>0.447319</td>\n",
       "      <td>0.242567</td>\n",
       "      <td>...</td>\n",
       "      <td>0.591297</td>\n",
       "      <td>0.620751</td>\n",
       "      <td>0.618413</td>\n",
       "      <td>0.432908</td>\n",
       "      <td>0.557911</td>\n",
       "      <td>0.451977</td>\n",
       "      <td>0.598769</td>\n",
       "      <td>0.612569</td>\n",
       "      <td>0.482089</td>\n",
       "      <td>0.604455</td>\n",
       "    </tr>\n",
       "    <tr>\n",
       "      <th>4</th>\n",
       "      <td>0.303644</td>\n",
       "      <td>0.149247</td>\n",
       "      <td>0.334644</td>\n",
       "      <td>0.483584</td>\n",
       "      <td>0.285685</td>\n",
       "      <td>0.387123</td>\n",
       "      <td>0.310561</td>\n",
       "      <td>0.444349</td>\n",
       "      <td>0.500260</td>\n",
       "      <td>0.248801</td>\n",
       "      <td>...</td>\n",
       "      <td>0.616894</td>\n",
       "      <td>0.616577</td>\n",
       "      <td>0.627498</td>\n",
       "      <td>0.395952</td>\n",
       "      <td>0.592854</td>\n",
       "      <td>0.449923</td>\n",
       "      <td>0.534120</td>\n",
       "      <td>0.621520</td>\n",
       "      <td>0.488423</td>\n",
       "      <td>0.631439</td>\n",
       "    </tr>\n",
       "  </tbody>\n",
       "</table>\n",
       "<p>5 rows × 134 columns</p>\n",
       "</div>"
      ],
      "text/plain": [
       "   Left-Lateral-Ventricle  Left-Inf-Lat-Vent  Left-Cerebellum-White-Matter  \\\n",
       "0                0.266889           0.130439                      0.294306   \n",
       "1                0.267356           0.130678                      0.297613   \n",
       "2                0.272088           0.140978                      0.300899   \n",
       "3                0.285483           0.132802                      0.280392   \n",
       "4                0.303644           0.149247                      0.334644   \n",
       "\n",
       "   Left-Cerebellum-Cortex  Left-Thalamus  Left-Caudate  Left-Putamen  \\\n",
       "0                0.517315       0.305780      0.385517      0.316429   \n",
       "1                0.516960       0.303479      0.407153      0.358349   \n",
       "2                0.512415       0.385946      0.440772      0.351457   \n",
       "3                0.482249       0.435433      0.421825      0.319923   \n",
       "4                0.483584       0.285685      0.387123      0.310561   \n",
       "\n",
       "   Left-Pallidum  3rd-Ventricle  4th-Ventricle  ...  \\\n",
       "0       0.391351       0.451096       0.243012  ...   \n",
       "1       0.428490       0.426830       0.258800  ...   \n",
       "2       0.326174       0.457948       0.232810  ...   \n",
       "3       0.322751       0.447319       0.242567  ...   \n",
       "4       0.444349       0.500260       0.248801  ...   \n",
       "\n",
       "   rh_superiorparietal_thickness  rh_superiortemporal_thickness  \\\n",
       "0                       0.630546                       0.646989   \n",
       "1                       0.658703                       0.654144   \n",
       "2                       0.631399                       0.616577   \n",
       "3                       0.591297                       0.620751   \n",
       "4                       0.616894                       0.616577   \n",
       "\n",
       "   rh_supramarginal_thickness  rh_frontalpole_thickness  \\\n",
       "0                    0.643852                  0.428509   \n",
       "1                    0.649303                  0.433348   \n",
       "2                    0.623259                  0.416190   \n",
       "3                    0.618413                  0.432908   \n",
       "4                    0.627498                  0.395952   \n",
       "\n",
       "   rh_temporalpole_thickness  rh_transversetemporal_thickness  \\\n",
       "0                   0.619945                         0.427838   \n",
       "1                   0.607774                         0.480226   \n",
       "2                   0.550452                         0.498202   \n",
       "3                   0.557911                         0.451977   \n",
       "4                   0.592854                         0.449923   \n",
       "\n",
       "   rh_insula_thickness  rh_MeanThickness_thickness  BrainSegVolNotVent.2  \\\n",
       "0             0.662904                    0.646042              0.507961   \n",
       "1             0.609030                    0.650336              0.514535   \n",
       "2             0.590559                    0.633524              0.512489   \n",
       "3             0.598769                    0.612569              0.482089   \n",
       "4             0.534120                    0.621520              0.488423   \n",
       "\n",
       "     eTIV.1  \n",
       "0  0.633233  \n",
       "1  0.637380  \n",
       "2  0.635653  \n",
       "3  0.604455  \n",
       "4  0.631439  \n",
       "\n",
       "[5 rows x 134 columns]"
      ]
     },
     "execution_count": 4,
     "metadata": {},
     "output_type": "execute_result"
    }
   ],
   "source": [
    "#spits train and test data\n",
    "x_train, x_test, y_train, y_test = train_test_split(x,y, test_size=0.2, random_state=42)\n",
    "x.head()\n"
   ]
  },
  {
   "cell_type": "code",
   "execution_count": 5,
   "metadata": {},
   "outputs": [
    {
     "data": {
      "text/plain": [
       "0.8512137142542608"
      ]
     },
     "execution_count": 5,
     "metadata": {},
     "output_type": "execute_result"
    }
   ],
   "source": [
    "from sklearn import linear_model\n",
    "reg = linear_model.BayesianRidge()\n",
    "reg.fit(x_train, y_train)\n",
    "\n",
    "reg.score(x_test, y_test)\n"
   ]
  },
  {
   "cell_type": "code",
   "execution_count": 8,
   "metadata": {},
   "outputs": [
    {
     "data": {
      "text/plain": [
       "85.4504989818832"
      ]
     },
     "execution_count": 8,
     "metadata": {},
     "output_type": "execute_result"
    }
   ],
   "source": [
    "#testing score\n",
    "reg.score(x_train, y_train)*100"
   ]
  },
  {
   "cell_type": "code",
   "execution_count": 9,
   "metadata": {},
   "outputs": [
    {
     "data": {
      "image/png": "[encoded data removed]",
      "text/plain": [
       "<Figure size 576x576 with 1 Axes>"
      ]
     },
     "metadata": {
      "needs_background": "light"
     },
     "output_type": "display_data"
    }
   ],
   "source": [
    "y_pred_train = reg.predict(x_train)\n",
    "\n",
    "true_val = y_train\n",
    "pred_val = y_pred_train\n",
    "plt.figure(figsize=(8,8))\n",
    "plt.scatter(true_val, pred_val, c='crimson')\n",
    "plt.yscale('log')\n",
    "plt.xscale('log')\n",
    "p1 = max(max(pred_val), max(true_val))\n",
    "p2 = min(min(pred_val), min(true_val))\n",
    "plt.plot([p1, p2], [p1, p2], 'b-')\n",
    "plt.xlabel('True Values', fontsize=15)\n",
    "plt.ylabel('Predicted Values', fontsize=15)\n",
    "plt.title(\"Bayesian Ridge: True Values vs Predicted Values\")\n",
    "plt.axis('equal')\n",
    "plt.show()"
   ]
  },
  {
   "cell_type": "code",
   "execution_count": 11,
   "metadata": {},
   "outputs": [
    {
     "data": {
      "text/plain": [
       "0.8623231036738865"
      ]
     },
     "execution_count": 11,
     "metadata": {},
     "output_type": "execute_result"
    }
   ],
   "source": [
    "#BMEN 415 REGRESSION MODEL: BAGGING REGRESSOR \n",
    "from sklearn.svm import SVR\n",
    "from sklearn.ensemble import BaggingRegressor\n",
    "\n",
    "reg = BaggingRegressor(n_estimators=10, random_state=42)\n",
    "reg.fit(x_train, y_train)\n",
    "\n",
    "reg.score(x_test, y_test)\n",
    "\n"
   ]
  },
  {
   "cell_type": "code",
   "execution_count": 12,
   "metadata": {},
   "outputs": [
    {
     "data": {
      "text/plain": [
       "96.96357192354822"
      ]
     },
     "execution_count": 12,
     "metadata": {},
     "output_type": "execute_result"
    }
   ],
   "source": [
    "#training score\n",
    "reg.score(x_train, y_train)*100"
   ]
  },
  {
   "cell_type": "code",
   "execution_count": 27,
   "metadata": {},
   "outputs": [
    {
     "data": {
      "image/png": "[encoded data removed]",
      "text/plain": [
       "<Figure size 576x576 with 1 Axes>"
      ]
     },
     "metadata": {
      "needs_background": "light"
     },
     "output_type": "display_data"
    }
   ],
   "source": [
    "y_pred_train = reg.predict(x_train)\n",
    "\n",
    "true_val = y_train\n",
    "pred_val = y_pred_train\n",
    "plt.figure(figsize=(8,8))\n",
    "plt.scatter(true_val, pred_val, c='crimson')\n",
    "plt.yscale('log')\n",
    "plt.xscale('log')\n",
    "p1 = max(max(pred_val), max(true_val))\n",
    "p2 = min(min(pred_val), min(true_val))\n",
    "plt.plot([p1, p2], [p1, p2], 'b-')\n",
    "plt.xlabel('True Values', fontsize=15)\n",
    "plt.ylabel('Predicted Values', fontsize=15)\n",
    "plt.title(\"Bagging Regressor: True Values vs Predicted Values\")\n",
    "plt.axis('equal')\n",
    "plt.show()"
   ]
  },
  {
   "cell_type": "code",
   "execution_count": 13,
   "metadata": {},
   "outputs": [
    {
     "name": "stderr",
     "output_type": "stream",
     "text": [
      "c:\\Users\\14035\\AppData\\Local\\Programs\\Python\\Python36\\lib\\site-packages\\sklearn\\linear_model\\_huber.py:296: ConvergenceWarning: lbfgs failed to converge (status=1):\n",
      "STOP: TOTAL NO. of ITERATIONS REACHED LIMIT.\n",
      "\n",
      "Increase the number of iterations (max_iter) or scale the data as shown in:\n",
      "    https://scikit-learn.org/stable/modules/preprocessing.html\n",
      "  self.n_iter_ = _check_optimize_result(\"lbfgs\", opt_res, self.max_iter)\n"
     ]
    },
    {
     "data": {
      "text/plain": [
       "0.8461719725117547"
      ]
     },
     "execution_count": 13,
     "metadata": {},
     "output_type": "execute_result"
    }
   ],
   "source": [
    "#BMEN 415 REGRESSION MODEL: HuberRegressor\n",
    "from sklearn.linear_model import HuberRegressor, LinearRegression\n",
    "\n",
    "reg = HuberRegressor().fit(x_train, y_train)\n",
    "\n",
    "reg.score(x_test,y_test)\n",
    "\n",
    "\n"
   ]
  },
  {
   "cell_type": "code",
   "execution_count": 14,
   "metadata": {},
   "outputs": [
    {
     "data": {
      "text/plain": [
       "85.02799421289377"
      ]
     },
     "execution_count": 14,
     "metadata": {},
     "output_type": "execute_result"
    }
   ],
   "source": [
    "#training score\n",
    "reg.score(x_train, y_train)*100"
   ]
  },
  {
   "cell_type": "code",
   "execution_count": 25,
   "metadata": {},
   "outputs": [
    {
     "data": {
      "image/png": "[encoded data removed]",
      "text/plain": [
       "<Figure size 576x576 with 1 Axes>"
      ]
     },
     "metadata": {
      "needs_background": "light"
     },
     "output_type": "display_data"
    }
   ],
   "source": [
    "\n",
    "y_pred_train = reg.predict(x_train)\n",
    "\n",
    "true_val = y_train\n",
    "pred_val = y_pred_train\n",
    "plt.figure(figsize=(8,8))\n",
    "plt.scatter(true_val, pred_val, c='crimson')\n",
    "plt.yscale('log')\n",
    "plt.xscale('log')\n",
    "p1 = max(max(pred_val), max(true_val))\n",
    "p2 = min(min(pred_val), min(true_val))\n",
    "plt.plot([p1, p2], [p1, p2], 'b-')\n",
    "plt.xlabel('True Values', fontsize=15)\n",
    "plt.ylabel('Predicted Values', fontsize=15)\n",
    "plt.title(\"Huber Regressor: True Values vs Predicted Values\")\n",
    "plt.axis('equal')\n",
    "plt.show()"
   ]
  }
 ],
 "metadata": {
  "kernelspec": {
   "display_name": "Python 3",
   "language": "python",
   "name": "python3"
  },
  "language_info": {
   "codemirror_mode": {
    "name": "ipython",
    "version": 3
   },
   "file_extension": ".py",
   "mimetype": "text/x-python",
   "name": "python",
   "nbconvert_exporter": "python",
   "pygments_lexer": "ipython3",
   "version": "3.6.8"
  },
  "orig_nbformat": 4
 },
 "nbformat": 4,
 "nbformat_minor": 2
}
